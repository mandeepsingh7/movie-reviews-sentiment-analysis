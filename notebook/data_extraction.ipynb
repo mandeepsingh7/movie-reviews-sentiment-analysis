{
 "cells": [
  {
   "cell_type": "markdown",
   "metadata": {},
   "source": [
    "# Movie Reviews Sentiment Analysis"
   ]
  },
  {
   "cell_type": "markdown",
   "metadata": {},
   "source": [
    "### Problem Statement\n",
    "- In this project, we try to estimate the sentiment from a movie review."
   ]
  },
  {
   "cell_type": "markdown",
   "metadata": {},
   "source": [
    "### Dataset\n",
    "- Source - https://ai.stanford.edu/~amaas/data/sentiment/aclImdb_v1.tar.gz\n",
    "- The data contains 50,000 reviews, 25,000 of them are positive and 25,000 of them are negative."
   ]
  },
  {
   "cell_type": "markdown",
   "metadata": {},
   "source": [
    "In this notebook, we perform Data Extraction"
   ]
  },
  {
   "cell_type": "markdown",
   "metadata": {},
   "source": [
    "### Importing required packages"
   ]
  },
  {
   "cell_type": "code",
   "execution_count": 5,
   "metadata": {},
   "outputs": [],
   "source": [
    "import numpy as np\n",
    "import pandas as pd\n",
    "import urllib.request\n",
    "import tarfile \n",
    "import os"
   ]
  },
  {
   "cell_type": "markdown",
   "metadata": {},
   "source": [
    "### Retreiving dataset and extracting the contents"
   ]
  },
  {
   "cell_type": "code",
   "execution_count": 3,
   "metadata": {},
   "outputs": [],
   "source": [
    "url = 'https://ai.stanford.edu/~amaas/data/sentiment/aclImdb_v1.tar.gz'\n",
    "filename = 'aclImdb_v1.tar.gz'\n",
    "if not os.path.exists('aclImdb_v1.tar.gz'):\n",
    "    urllib.request.urlretrieve(url, filename)\n",
    "    with tarfile.open('aclImdb_v1.tar.gz', 'r:gz') as tar:\n",
    "        tar.extractall()"
   ]
  },
  {
   "cell_type": "markdown",
   "metadata": {},
   "source": [
    "### Creating dataframe from dataset and then saving DataFrame to csv file"
   ]
  },
  {
   "cell_type": "code",
   "execution_count": null,
   "metadata": {},
   "outputs": [],
   "source": [
    "folder_name = 'aclImdb'\n",
    "if not os.path.exists('data/imdb_data.csv'):\n",
    "    df = pd.DataFrame()\n",
    "    labels = {'pos':1, 'neg':0}\n",
    "    for s in ('test', 'train'):\n",
    "        for l in ('neg', 'pos'):\n",
    "            path = os.path.join(folder_name, s, l)\n",
    "            # path looks like 'aclImdb\\test\\neg'\n",
    "            for file in os.listdir(path):\n",
    "                # file looks like '10000_4.txt'\n",
    "                score = file[-5]\n",
    "                sentiment = labels[l]\n",
    "                file_path = os.path.join(path, file)\n",
    "                # file_path looks like 'aclImdb\\test\\neg\\10000_4.txt' \n",
    "                with open(file_path, 'r', encoding='utf-8') as infile:\n",
    "                    # We should always know the encoding of the file\n",
    "                    # If we are working with utf-8 encoded file, then we should open it\n",
    "                    # with encoding=utf-8\n",
    "                    txt = infile.read()\n",
    "                df = pd.concat([df, pd.DataFrame([[txt, score, sentiment]])], ignore_index=True)\n",
    "    df.columns = ['Review', 'Rating', 'Sentiment']\n",
    "    np.random.seed(42)\n",
    "    df = df.reindex(np.random.permutation(df.index))\n",
    "    df.head()\n",
    "    df.reset_index(drop=True, inplace=True)\n",
    "    if not os.path.exists('data'):\n",
    "        os.mkdir('data')\n",
    "    df.to_csv('data/imdb_data.csv', index=False, encoding='utf-8')"
   ]
  },
  {
   "cell_type": "markdown",
   "metadata": {},
   "source": [
    "### Displaying DataFrame"
   ]
  },
  {
   "cell_type": "code",
   "execution_count": 9,
   "metadata": {},
   "outputs": [
    {
     "data": {
      "text/html": [
       "<div>\n",
       "<style scoped>\n",
       "    .dataframe tbody tr th:only-of-type {\n",
       "        vertical-align: middle;\n",
       "    }\n",
       "\n",
       "    .dataframe tbody tr th {\n",
       "        vertical-align: top;\n",
       "    }\n",
       "\n",
       "    .dataframe thead th {\n",
       "        text-align: right;\n",
       "    }\n",
       "</style>\n",
       "<table border=\"1\" class=\"dataframe\">\n",
       "  <thead>\n",
       "    <tr style=\"text-align: right;\">\n",
       "      <th></th>\n",
       "      <th>Review</th>\n",
       "      <th>Rating</th>\n",
       "      <th>Sentiment</th>\n",
       "    </tr>\n",
       "  </thead>\n",
       "  <tbody>\n",
       "    <tr>\n",
       "      <th>0</th>\n",
       "      <td>Imagine The Big Chill with a cast of twenty-so...</td>\n",
       "      <td>2</td>\n",
       "      <td>0</td>\n",
       "    </tr>\n",
       "    <tr>\n",
       "      <th>1</th>\n",
       "      <td>I'd have to say that I've seen worse Sci Fi Ch...</td>\n",
       "      <td>3</td>\n",
       "      <td>0</td>\n",
       "    </tr>\n",
       "    <tr>\n",
       "      <th>2</th>\n",
       "      <td>Director Fabio Barreto got a strange Academy N...</td>\n",
       "      <td>1</td>\n",
       "      <td>0</td>\n",
       "    </tr>\n",
       "    <tr>\n",
       "      <th>3</th>\n",
       "      <td>Pretty bad PRC cheapie which I rarely bother t...</td>\n",
       "      <td>4</td>\n",
       "      <td>0</td>\n",
       "    </tr>\n",
       "    <tr>\n",
       "      <th>4</th>\n",
       "      <td>This is a very intriguing short movie by David...</td>\n",
       "      <td>8</td>\n",
       "      <td>1</td>\n",
       "    </tr>\n",
       "  </tbody>\n",
       "</table>\n",
       "</div>"
      ],
      "text/plain": [
       "                                              Review  Rating  Sentiment\n",
       "0  Imagine The Big Chill with a cast of twenty-so...       2          0\n",
       "1  I'd have to say that I've seen worse Sci Fi Ch...       3          0\n",
       "2  Director Fabio Barreto got a strange Academy N...       1          0\n",
       "3  Pretty bad PRC cheapie which I rarely bother t...       4          0\n",
       "4  This is a very intriguing short movie by David...       8          1"
      ]
     },
     "execution_count": 9,
     "metadata": {},
     "output_type": "execute_result"
    }
   ],
   "source": [
    "df = pd.read_csv('data/imdb_data.csv', encoding='utf-8')\n",
    "df.head()"
   ]
  }
 ],
 "metadata": {
  "kernelspec": {
   "display_name": "Python 3",
   "language": "python",
   "name": "python3"
  },
  "language_info": {
   "codemirror_mode": {
    "name": "ipython",
    "version": 3
   },
   "file_extension": ".py",
   "mimetype": "text/x-python",
   "name": "python",
   "nbconvert_exporter": "python",
   "pygments_lexer": "ipython3",
   "version": "3.10.0"
  }
 },
 "nbformat": 4,
 "nbformat_minor": 2
}
