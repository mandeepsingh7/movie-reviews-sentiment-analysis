{
 "cells": [
  {
   "cell_type": "markdown",
   "metadata": {},
   "source": [
    "### Importing required packages"
   ]
  },
  {
   "cell_type": "code",
   "execution_count": 114,
   "metadata": {},
   "outputs": [],
   "source": [
    "import numpy as np\n",
    "import pandas as pd\n",
    "import re\n",
    "from sklearn.model_selection import train_test_split\n",
    "from collections import Counter, OrderedDict\n",
    "from torchtext.vocab import vocab\n",
    "import torch\n",
    "import torch.nn as nn\n",
    "from torch.optim import lr_scheduler\n",
    "import matplotlib.pyplot as plt\n",
    "import seaborn as sns\n",
    "from tqdm import tqdm"
   ]
  },
  {
   "cell_type": "code",
   "execution_count": 112,
   "metadata": {},
   "outputs": [],
   "source": [
    "device = torch.device('cuda:0' if torch.cuda.is_available() else 'cpu')"
   ]
  },
  {
   "cell_type": "markdown",
   "metadata": {},
   "source": [
    "### Some Hyperparameters"
   ]
  },
  {
   "cell_type": "code",
   "execution_count": 84,
   "metadata": {},
   "outputs": [],
   "source": [
    "VOCAB_SIZE = 25000\n",
    "MAX_LENGTH = 512\n",
    "BATCH_SIZE = 32"
   ]
  },
  {
   "cell_type": "markdown",
   "metadata": {},
   "source": [
    "### Importing data"
   ]
  },
  {
   "cell_type": "code",
   "execution_count": 2,
   "metadata": {},
   "outputs": [
    {
     "data": {
      "text/html": [
       "<div>\n",
       "<style scoped>\n",
       "    .dataframe tbody tr th:only-of-type {\n",
       "        vertical-align: middle;\n",
       "    }\n",
       "\n",
       "    .dataframe tbody tr th {\n",
       "        vertical-align: top;\n",
       "    }\n",
       "\n",
       "    .dataframe thead th {\n",
       "        text-align: right;\n",
       "    }\n",
       "</style>\n",
       "<table border=\"1\" class=\"dataframe\">\n",
       "  <thead>\n",
       "    <tr style=\"text-align: right;\">\n",
       "      <th></th>\n",
       "      <th>Review</th>\n",
       "      <th>Rating</th>\n",
       "      <th>Sentiment</th>\n",
       "    </tr>\n",
       "  </thead>\n",
       "  <tbody>\n",
       "    <tr>\n",
       "      <th>0</th>\n",
       "      <td>Imagine The Big Chill with a cast of twenty-so...</td>\n",
       "      <td>2</td>\n",
       "      <td>0</td>\n",
       "    </tr>\n",
       "    <tr>\n",
       "      <th>1</th>\n",
       "      <td>I'd have to say that I've seen worse Sci Fi Ch...</td>\n",
       "      <td>3</td>\n",
       "      <td>0</td>\n",
       "    </tr>\n",
       "    <tr>\n",
       "      <th>2</th>\n",
       "      <td>Director Fabio Barreto got a strange Academy N...</td>\n",
       "      <td>1</td>\n",
       "      <td>0</td>\n",
       "    </tr>\n",
       "    <tr>\n",
       "      <th>3</th>\n",
       "      <td>Pretty bad PRC cheapie which I rarely bother t...</td>\n",
       "      <td>4</td>\n",
       "      <td>0</td>\n",
       "    </tr>\n",
       "    <tr>\n",
       "      <th>4</th>\n",
       "      <td>This is a very intriguing short movie by David...</td>\n",
       "      <td>8</td>\n",
       "      <td>1</td>\n",
       "    </tr>\n",
       "  </tbody>\n",
       "</table>\n",
       "</div>"
      ],
      "text/plain": [
       "                                              Review  Rating  Sentiment\n",
       "0  Imagine The Big Chill with a cast of twenty-so...       2          0\n",
       "1  I'd have to say that I've seen worse Sci Fi Ch...       3          0\n",
       "2  Director Fabio Barreto got a strange Academy N...       1          0\n",
       "3  Pretty bad PRC cheapie which I rarely bother t...       4          0\n",
       "4  This is a very intriguing short movie by David...       8          1"
      ]
     },
     "execution_count": 2,
     "metadata": {},
     "output_type": "execute_result"
    }
   ],
   "source": [
    "df = pd.read_csv('data/imdb_data.csv')\n",
    "df.head()"
   ]
  },
  {
   "cell_type": "code",
   "execution_count": 10,
   "metadata": {},
   "outputs": [],
   "source": [
    "X = df['Review'].values \n",
    "y = df['Sentiment'].values \n",
    "X_train, X_test, y_train, y_test = train_test_split(X, y, test_size=0.5, random_state=42, stratify=y)\n",
    "X_train, X_valid, y_train, y_valid = train_test_split(X_train, y_train, test_size=0.2, random_state=42, stratify=y_train)"
   ]
  },
  {
   "cell_type": "markdown",
   "metadata": {},
   "source": [
    "### Text Preprocessing"
   ]
  },
  {
   "cell_type": "code",
   "execution_count": 4,
   "metadata": {},
   "outputs": [],
   "source": [
    "def tokenizer(text):\n",
    "    # Replacing n't with not since it could be really important in sentiment analysis\n",
    "    text = re.sub(\"n't\", ' not ', text)\n",
    "    # Removing URLs\n",
    "    text = re.sub('(http).*\\/', ' ', text)\n",
    "    # Removing HTML tags\n",
    "    text = re.sub('<[^>]*>', '', text)\n",
    "    # Extracting emoticons\n",
    "    emoticons = re.findall('(?::|;|=)(?:-)?(?:\\)|\\(|P|D|]|})', text)\n",
    "    # Removing punctuations\n",
    "    text = re.sub('[\\W]+', ' ', text.lower())\n",
    "    # Adding emoticons at end and converting :-) to :)\n",
    "    text = text + ' ' + ' '.join(emoticons).replace('-', '')\n",
    "    \n",
    "    return text.split()"
   ]
  },
  {
   "cell_type": "code",
   "execution_count": 48,
   "metadata": {},
   "outputs": [
    {
     "name": "stdout",
     "output_type": "stream",
     "text": [
      "Vocabulary size = 70866\n"
     ]
    },
    {
     "data": {
      "image/png": "[encoded data removed]",
      "text/plain": [
       "<Figure size 640x480 with 1 Axes>"
      ]
     },
     "metadata": {},
     "output_type": "display_data"
    }
   ],
   "source": [
    "token_counter = Counter()\n",
    "lengths = []\n",
    "for review in X_train:\n",
    "    tokens = tokenizer(review)\n",
    "    lengths.append(len(tokens))\n",
    "    token_counter.update(tokens)\n",
    "print(f'Vocabulary size = {len(token_counter)}')\n",
    "sns.histplot(lengths)\n",
    "plt.xlabel('Sentence Lengths')\n",
    "plt.show()"
   ]
  },
  {
   "cell_type": "markdown",
   "metadata": {},
   "source": [
    "### Creating vocabulary"
   ]
  },
  {
   "cell_type": "code",
   "execution_count": 55,
   "metadata": {},
   "outputs": [
    {
     "name": "stdout",
     "output_type": "stream",
     "text": [
      "Original Vocabulary size = 70866\n",
      "Vocabulary size (after only taking frequent words) = 25002\n"
     ]
    }
   ],
   "source": [
    "token_counter = Counter()\n",
    "for review in X_train:\n",
    "    token_counter.update(tokenizer(review))\n",
    "print(f'Original Vocabulary size = {len(token_counter)}')\n",
    "sorted_by_freq_tuples = sorted(token_counter.items(), key=lambda x: x[1], reverse=True)[:VOCAB_SIZE]\n",
    "ordered_dict = OrderedDict(sorted_by_freq_tuples)\n",
    "PADDING_TOKEN = '<pad>'\n",
    "UNKNOWN_TOKEN = '<unk>'\n",
    "specials = [PADDING_TOKEN, UNKNOWN_TOKEN]\n",
    "vocabulary = vocab(ordered_dict, specials=specials)\n",
    "vocabulary.set_default_index(vocabulary[UNKNOWN_TOKEN])\n",
    "print(f'Vocabulary size (after only taking frequent words) = {len(vocabulary)}')"
   ]
  },
  {
   "cell_type": "markdown",
   "metadata": {},
   "source": [
    "### Padding"
   ]
  },
  {
   "cell_type": "code",
   "execution_count": 63,
   "metadata": {},
   "outputs": [],
   "source": [
    "def padding(array, desired_length):\n",
    "    array_length = len(array)\n",
    "    if (array_length >= desired_length):\n",
    "        return array[:desired_length]\n",
    "    else:\n",
    "        diff = desired_length - array_length \n",
    "        return np.pad(array,(diff, 0), 'constant',constant_values=(vocabulary['<pad>']))"
   ]
  },
  {
   "cell_type": "markdown",
   "metadata": {},
   "source": [
    "### Embedding"
   ]
  },
  {
   "cell_type": "code",
   "execution_count": 79,
   "metadata": {},
   "outputs": [],
   "source": [
    "def get_embedding(text_array):\n",
    "    X = []\n",
    "    for review in text_array:\n",
    "        tokens = tokenizer(review)\n",
    "        embedding = np.array([vocabulary[token] if token in vocabulary else vocabulary['<unk>'] for token in tokens])\n",
    "        padded_embedding = padding(embedding, MAX_LENGTH)\n",
    "        X.append(padded_embedding)\n",
    "    return np.array(X)"
   ]
  },
  {
   "cell_type": "code",
   "execution_count": 82,
   "metadata": {},
   "outputs": [],
   "source": [
    "X_train_embedded = get_embedding(X_train)\n",
    "X_test_embedded = get_embedding(X_test)\n",
    "X_valid_embedded = get_embedding(X_valid)"
   ]
  },
  {
   "cell_type": "markdown",
   "metadata": {},
   "source": [
    "### Train and Valid DataLoaders"
   ]
  },
  {
   "cell_type": "code",
   "execution_count": 129,
   "metadata": {},
   "outputs": [],
   "source": [
    "train_data = torch.utils.data.TensorDataset(torch.tensor(X_train_embedded), torch.tensor(y_train).unsqueeze(1).float())\n",
    "train_loader = torch.utils.data.DataLoader(dataset=train_data,\n",
    "                                           batch_size = BATCH_SIZE,\n",
    "                                           shuffle = True)\n",
    "\n",
    "valid_data = torch.utils.data.TensorDataset(torch.tensor(X_valid_embedded), torch.tensor(y_valid).unsqueeze(1).float())\n",
    "valid_loader = torch.utils.data.DataLoader(dataset=valid_data,\n",
    "                                           batch_size = BATCH_SIZE,\n",
    "                                           shuffle = True)"
   ]
  },
  {
   "cell_type": "markdown",
   "metadata": {},
   "source": [
    "### Training"
   ]
  },
  {
   "cell_type": "code",
   "execution_count": 115,
   "metadata": {},
   "outputs": [],
   "source": [
    "def training(model, model_name, loss_fn, optimizer, scheduler, train_data_loader, valid_data_loader, num_epochs = 25, patience = 5):\n",
    "    max_acc = 0.0\n",
    "    count = 0\n",
    "    history = []\n",
    "    for epoch in tqdm(range(num_epochs)):\n",
    "        model.train()\n",
    "        train_loss = 0.0\n",
    "        train_acc = 0.0 \n",
    "        \n",
    "        valid_loss = 0.0\n",
    "        valid_acc = 0.0\n",
    "        for _, (inputs, labels) in enumerate(train_data_loader):\n",
    "            inputs = inputs.to(device)\n",
    "            labels = labels.to(device)\n",
    "            optimizer.zero_grad()\n",
    "            y_preds = model(inputs)\n",
    "            loss = loss_fn(y_preds, labels)\n",
    "            loss.backward()\n",
    "            optimizer.step()\n",
    "            train_loss += loss.item()*len(inputs)\n",
    "            correct_counts = (torch.argmax(y_preds.data, 1) == labels).float().sum().item()\n",
    "            train_acc += correct_counts\n",
    "        \n",
    "        with torch.no_grad():\n",
    "            model.eval()\n",
    "            for _, (inputs, labels) in enumerate(valid_data_loader):\n",
    "                inputs = inputs.to(device)\n",
    "                labels = labels.to(device)\n",
    "                y_preds = model(inputs)\n",
    "                loss = loss_fn(y_preds, labels)\n",
    "                valid_loss += loss.item()*len(inputs)\n",
    "                correct_counts = (torch.argmax(y_preds.data, 1) == labels).float().sum().item()\n",
    "                valid_acc += correct_counts\n",
    "        \n",
    "        train_loss = train_loss/len(train_data_loader.dataset)\n",
    "        train_acc = train_acc/len(train_data_loader.dataset)\n",
    "        \n",
    "        valid_loss = valid_loss/len(valid_data_loader.dataset)\n",
    "        valid_acc = valid_acc/len(valid_data_loader.dataset)\n",
    "        \n",
    "        history.append([train_acc, train_loss, valid_acc, valid_loss]) \n",
    "        print(f'Epoch No. {epoch+1}')\n",
    "        print(f'Training Accuracy = {train_acc:.4f}, Loss = {train_loss:.4f}')\n",
    "        print(f'Validation Accuracy = {valid_acc:.4f}, Loss = {valid_loss:.4f}')\n",
    "        torch.save(model.state_dict(), model_name + '_last_epoch.pt')\n",
    "        \n",
    "        scheduler.step(valid_loss)\n",
    "        \n",
    "        if (valid_acc > max_acc):\n",
    "            count = 0 \n",
    "            max_acc = valid_acc \n",
    "            torch.save(model.state_dict(), model_name + '_best_model.pt')\n",
    "        \n",
    "        else:\n",
    "            count += 1\n",
    "            if (count >= patience):\n",
    "                print(f'Early stop at Epoch Number. {epoch + 1}')\n",
    "                break \n",
    "        \n",
    "    return model, history"
   ]
  },
  {
   "cell_type": "markdown",
   "metadata": {},
   "source": [
    "### Accuracy for Test Data"
   ]
  },
  {
   "cell_type": "code",
   "execution_count": 131,
   "metadata": {},
   "outputs": [],
   "source": [
    "test_data = torch.utils.data.TensorDataset(torch.tensor(X_test_embedded), torch.tensor(y_test).unsqueeze(1).float())\n",
    "test_loader = torch.utils.data.DataLoader(dataset=test_data,\n",
    "                                           batch_size = BATCH_SIZE,\n",
    "                                           shuffle = True)"
   ]
  },
  {
   "cell_type": "code",
   "execution_count": 132,
   "metadata": {},
   "outputs": [],
   "source": [
    "def get_accuracy(trained_model, loss_fn, test_data_loader):\n",
    "    test_loss = 0.0\n",
    "    test_acc = 0.0\n",
    "    with torch.no_grad():\n",
    "        trained_model.eval()\n",
    "        for _, (inputs, labels) in enumerate(test_data_loader):\n",
    "            inputs = inputs.to(device)\n",
    "            labels = labels.to(device)\n",
    "            y_preds = trained_model(inputs)\n",
    "            loss = loss_fn(y_preds, labels)\n",
    "            test_loss += loss.item()*len(inputs)\n",
    "            correct_counts = (torch.argmax(y_preds.data, 1) == labels).float().sum().item()\n",
    "            test_acc += correct_counts\n",
    "    test_loss = test_loss/len(test_data_loader.dataset)\n",
    "    test_acc = test_acc/len(test_data_loader.dataset)\n",
    "    print(f'Loss for test set = {test_loss:.4f}')\n",
    "    print(f'Accuracy for test set = {test_acc:.4f}')\n",
    "    return test_loss, test_acc"
   ]
  },
  {
   "cell_type": "markdown",
   "metadata": {},
   "source": [
    "### Post Training"
   ]
  },
  {
   "cell_type": "code",
   "execution_count": 133,
   "metadata": {},
   "outputs": [],
   "source": [
    "def post_training(trained_model, loss_fn, test_loader, history, model_name):\n",
    "    test_loss, test_acc = get_accuracy(trained_model, loss_fn, test_loader)\n",
    "    history_np = np.array(history)\n",
    "    fig, axes = plt.subplots(1, 2, figsize = (12, 4))\n",
    "    epochs_list = np.arange(1, len(history_np)+1)\n",
    "    axes[0].plot(epochs_list, history_np[:, 0], label = \"Training Accuracy\", marker = '.')\n",
    "    axes[0].plot(epochs_list, history_np[:, 2], label = \"Validation Accuracy\", marker = '.')\n",
    "    axes[0].set_xlabel('Epochs')\n",
    "    axes[0].set_ylabel('Accuracy')\n",
    "    axes[0].legend()\n",
    "\n",
    "    axes[1].plot(epochs_list, history_np[:, 1], label = \"Training Loss\", marker = '.')\n",
    "    axes[1].plot(epochs_list, history_np[:, 3], label = \"Validation Loss\", marker = '.')\n",
    "    axes[1].set_xlabel('Epochs')\n",
    "    axes[1].set_ylabel('Loss')\n",
    "    axes[1].legend()\n",
    "\n",
    "    fig.suptitle(f'Training for {model_name}')\n",
    "    plt.show()\n",
    "    return test_loss, test_acc"
   ]
  },
  {
   "cell_type": "markdown",
   "metadata": {},
   "source": [
    "### LSTM Model"
   ]
  },
  {
   "cell_type": "code",
   "execution_count": 105,
   "metadata": {},
   "outputs": [],
   "source": [
    "class LSTM(nn.Module):\n",
    "    def __init__(self, vocab_size, embed_size, hidden_size_1, hidden_size_2, n_layers):\n",
    "        super().__init__()\n",
    "        self.embedding = nn.Embedding(num_embeddings=vocab_size, embedding_dim=embed_size)\n",
    "        self.lstm = nn.LSTM(input_size=embed_size, hidden_size=hidden_size_1, num_layers=n_layers, dropout=0.1, batch_first=True)\n",
    "        self.fc = nn.Sequential(\n",
    "            nn.Linear(hidden_size_1, hidden_size_2 ),\n",
    "            nn.ReLU(),\n",
    "            nn.Dropout(0.5),\n",
    "            nn.Linear(hidden_size_2, 1),\n",
    "            nn.Sigmoid()\n",
    "        )\n",
    "    \n",
    "    def forward(self, x):\n",
    "        x = self.embedding(x)\n",
    "        out, _ = self.lstm(x)\n",
    "        out = out[:, -1, :]\n",
    "        out = self.fc(out)\n",
    "        return out \n",
    "        "
   ]
  },
  {
   "cell_type": "code",
   "execution_count": 113,
   "metadata": {},
   "outputs": [
    {
     "name": "stdout",
     "output_type": "stream",
     "text": [
      "LSTM(\n",
      "  (embedding): Embedding(25002, 1024)\n",
      "  (lstm): LSTM(1024, 512, num_layers=2, batch_first=True, dropout=0.1)\n",
      "  (fc): Sequential(\n",
      "    (0): Linear(in_features=512, out_features=256, bias=True)\n",
      "    (1): ReLU()\n",
      "    (2): Dropout(p=0.5, inplace=False)\n",
      "    (3): Linear(in_features=256, out_features=1, bias=True)\n",
      "    (4): Sigmoid()\n",
      "  )\n",
      ")\n"
     ]
    }
   ],
   "source": [
    "model = LSTM(vocab_size=len(vocabulary), embed_size = 1024, hidden_size_1=512, hidden_size_2=256, n_layers=2)\n",
    "learning_rate = 0.001\n",
    "loss_fn = nn.BCELoss()\n",
    "optimizer = torch.optim.Adam(model.parameters(), lr = learning_rate)\n",
    "num_epochs = 10\n",
    "patience = 5\n",
    "scheduler = lr_scheduler.ReduceLROnPlateau(optimizer, 'min')\n",
    "model.to(device)\n",
    "print(model)"
   ]
  },
  {
   "cell_type": "code",
   "execution_count": null,
   "metadata": {},
   "outputs": [],
   "source": [
    "trained_model , history_model = training(model, 'LSTM', loss_fn, optimizer, scheduler, train_loader, valid_loader, num_epochs, patience)"
   ]
  },
  {
   "cell_type": "code",
   "execution_count": null,
   "metadata": {},
   "outputs": [],
   "source": [
    "test_loss_2, test_acc_2 = post_training(trained_model, loss_fn, test_loader, history_model, 'LSTM')"
   ]
  }
 ],
 "metadata": {
  "kernelspec": {
   "display_name": "Python 3",
   "language": "python",
   "name": "python3"
  },
  "language_info": {
   "codemirror_mode": {
    "name": "ipython",
    "version": 3
   },
   "file_extension": ".py",
   "mimetype": "text/x-python",
   "name": "python",
   "nbconvert_exporter": "python",
   "pygments_lexer": "ipython3",
   "version": "3.10.0"
  }
 },
 "nbformat": 4,
 "nbformat_minor": 2
}
